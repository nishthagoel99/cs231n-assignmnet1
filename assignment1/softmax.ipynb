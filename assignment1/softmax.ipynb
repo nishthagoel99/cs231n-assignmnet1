{
 "cells": [
  {
   "cell_type": "markdown",
   "metadata": {
    "tags": [
     "pdf-title"
    ]
   },
   "source": [
    "# Softmax exercise\n",
    "\n",
    "*Complete and hand in this completed worksheet (including its outputs and any supporting code outside of the worksheet) with your assignment submission. For more details see the [assignments page](http://vision.stanford.edu/teaching/cs231n/assignments.html) on the course website.*\n",
    "\n",
    "This exercise is analogous to the SVM exercise. You will:\n",
    "\n",
    "- implement a fully-vectorized **loss function** for the Softmax classifier\n",
    "- implement the fully-vectorized expression for its **analytic gradient**\n",
    "- **check your implementation** with numerical gradient\n",
    "- use a validation set to **tune the learning rate and regularization** strength\n",
    "- **optimize** the loss function with **SGD**\n",
    "- **visualize** the final learned weights\n"
   ]
  },
  {
   "cell_type": "code",
   "execution_count": 1,
   "metadata": {
    "tags": [
     "pdf-ignore"
    ]
   },
   "outputs": [],
   "source": [
    "import random\n",
    "import numpy as np\n",
    "from cs231n.data_utils import load_CIFAR10\n",
    "import matplotlib.pyplot as plt\n",
    "\n",
    "%matplotlib inline\n",
    "plt.rcParams['figure.figsize'] = (10.0, 8.0) # set default size of plots\n",
    "plt.rcParams['image.interpolation'] = 'nearest'\n",
    "plt.rcParams['image.cmap'] = 'gray'\n",
    "\n",
    "# for auto-reloading extenrnal modules\n",
    "# see http://stackoverflow.com/questions/1907993/autoreload-of-modules-in-ipython\n",
    "%load_ext autoreload\n",
    "%autoreload 2"
   ]
  },
  {
   "cell_type": "code",
   "execution_count": 2,
   "metadata": {
    "tags": [
     "pdf-ignore"
    ]
   },
   "outputs": [
    {
     "name": "stdout",
     "output_type": "stream",
     "text": [
      "('Train data shape: ', (49000, 3073))\n",
      "('Train labels shape: ', (49000,))\n",
      "('Validation data shape: ', (1000, 3073))\n",
      "('Validation labels shape: ', (1000,))\n",
      "('Test data shape: ', (1000, 3073))\n",
      "('Test labels shape: ', (1000,))\n",
      "('dev data shape: ', (500, 3073))\n",
      "('dev labels shape: ', (500,))\n"
     ]
    }
   ],
   "source": [
    "def get_CIFAR10_data(num_training=49000, num_validation=1000, num_test=1000, num_dev=500):\n",
    "    \"\"\"\n",
    "    Load the CIFAR-10 dataset from disk and perform preprocessing to prepare\n",
    "    it for the linear classifier. These are the same steps as we used for the\n",
    "    SVM, but condensed to a single function.  \n",
    "    \"\"\"\n",
    "    # Load the raw CIFAR-10 data\n",
    "    cifar10_dir = 'cs231n/datasets/cifar-10-batches-py'\n",
    "    \n",
    "    # Cleaning up variables to prevent loading data multiple times (which may cause memory issue)\n",
    "    try:\n",
    "       del X_train, y_train\n",
    "       del X_test, y_test\n",
    "       print('Clear previously loaded data.')\n",
    "    except:\n",
    "       pass\n",
    "\n",
    "    X_train, y_train, X_test, y_test = load_CIFAR10(cifar10_dir)\n",
    "    \n",
    "    # subsample the data\n",
    "    mask = list(range(num_training, num_training + num_validation))\n",
    "    X_val = X_train[mask]\n",
    "    y_val = y_train[mask]\n",
    "    mask = list(range(num_training))\n",
    "    X_train = X_train[mask]\n",
    "    y_train = y_train[mask]\n",
    "    mask = list(range(num_test))\n",
    "    X_test = X_test[mask]\n",
    "    y_test = y_test[mask]\n",
    "    mask = np.random.choice(num_training, num_dev, replace=False)\n",
    "    X_dev = X_train[mask]\n",
    "    y_dev = y_train[mask]\n",
    "    \n",
    "    # Preprocessing: reshape the image data into rows\n",
    "    X_train = np.reshape(X_train, (X_train.shape[0], -1))\n",
    "    X_val = np.reshape(X_val, (X_val.shape[0], -1))\n",
    "    X_test = np.reshape(X_test, (X_test.shape[0], -1))\n",
    "    X_dev = np.reshape(X_dev, (X_dev.shape[0], -1))\n",
    "    \n",
    "    # Normalize the data: subtract the mean image\n",
    "    mean_image = np.mean(X_train, axis = 0)\n",
    "    X_train -= mean_image\n",
    "    X_val -= mean_image\n",
    "    X_test -= mean_image\n",
    "    X_dev -= mean_image\n",
    "    \n",
    "    # add bias dimension and transform into columns\n",
    "    X_train = np.hstack([X_train, np.ones((X_train.shape[0], 1))])\n",
    "    X_val = np.hstack([X_val, np.ones((X_val.shape[0], 1))])\n",
    "    X_test = np.hstack([X_test, np.ones((X_test.shape[0], 1))])\n",
    "    X_dev = np.hstack([X_dev, np.ones((X_dev.shape[0], 1))])\n",
    "    \n",
    "    return X_train, y_train, X_val, y_val, X_test, y_test, X_dev, y_dev\n",
    "\n",
    "\n",
    "# Invoke the above function to get our data.\n",
    "X_train, y_train, X_val, y_val, X_test, y_test, X_dev, y_dev = get_CIFAR10_data()\n",
    "print('Train data shape: ', X_train.shape)\n",
    "print('Train labels shape: ', y_train.shape)\n",
    "print('Validation data shape: ', X_val.shape)\n",
    "print('Validation labels shape: ', y_val.shape)\n",
    "print('Test data shape: ', X_test.shape)\n",
    "print('Test labels shape: ', y_test.shape)\n",
    "print('dev data shape: ', X_dev.shape)\n",
    "print('dev labels shape: ', y_dev.shape)"
   ]
  },
  {
   "cell_type": "markdown",
   "metadata": {},
   "source": [
    "## Softmax Classifier\n",
    "\n",
    "Your code for this section will all be written inside **cs231n/classifiers/softmax.py**. \n"
   ]
  },
  {
   "cell_type": "code",
   "execution_count": 20,
   "metadata": {},
   "outputs": [
    {
     "name": "stdout",
     "output_type": "stream",
     "text": [
      "loss: 2.343363\n",
      "sanity check: 2.302585\n"
     ]
    }
   ],
   "source": [
    "# First implement the naive softmax loss function with nested loops.\n",
    "# Open the file cs231n/classifiers/softmax.py and implement the\n",
    "# softmax_loss_naive function.\n",
    "\n",
    "from cs231n.classifiers.softmax import softmax_loss_naive\n",
    "import time\n",
    "\n",
    "# Generate a random softmax weight matrix and use it to compute the loss.\n",
    "W = np.random.randn(3073, 10) * 0.0001\n",
    "loss, grad = softmax_loss_naive(W, X_dev, y_dev, 0.0)\n",
    "\n",
    "# As a rough sanity check, our loss should be something close to -log(0.1).\n",
    "print('loss: %f' % loss)\n",
    "print('sanity check: %f' % (-np.log(0.1)))"
   ]
  },
  {
   "cell_type": "markdown",
   "metadata": {
    "tags": [
     "pdf-inline"
    ]
   },
   "source": [
    "**Inline Question 1**\n",
    "\n",
    "Why do we expect our loss to be close to -log(0.1)? Explain briefly.**\n",
    "\n",
    "$\\color{blue}{\\textit Your Answer:}$ *Fill this in* \n",
    "\n"
   ]
  },
  {
   "cell_type": "code",
   "execution_count": 21,
   "metadata": {},
   "outputs": [
    {
     "name": "stdout",
     "output_type": "stream",
     "text": [
      "numerical: 1.447771 analytic: 1.447771, relative error: 2.143247e-08\n",
      "numerical: 0.379186 analytic: 0.379186, relative error: 2.034472e-08\n",
      "numerical: -1.607169 analytic: -1.607169, relative error: 1.968668e-09\n",
      "numerical: -3.372387 analytic: -3.372387, relative error: 6.410016e-09\n",
      "numerical: -0.603044 analytic: -0.603044, relative error: 7.634102e-08\n",
      "numerical: 2.340883 analytic: 2.340883, relative error: 5.914325e-09\n",
      "numerical: 2.069760 analytic: 2.069759, relative error: 1.712701e-08\n",
      "numerical: 3.115640 analytic: 3.115640, relative error: 5.474078e-09\n",
      "numerical: 2.328657 analytic: 2.328657, relative error: 2.929769e-08\n",
      "numerical: -0.566838 analytic: -0.566838, relative error: 5.998072e-08\n",
      "numerical: 2.361969 analytic: 2.361969, relative error: 5.387048e-08\n",
      "numerical: -1.029381 analytic: -1.029381, relative error: 3.741755e-08\n",
      "numerical: 0.200462 analytic: 0.200462, relative error: 3.128173e-08\n",
      "numerical: 0.097483 analytic: 0.097483, relative error: 1.760229e-07\n",
      "numerical: -2.763407 analytic: -2.763407, relative error: 4.310196e-09\n",
      "numerical: 2.159505 analytic: 2.159504, relative error: 1.621865e-08\n",
      "numerical: 0.765059 analytic: 0.765059, relative error: 4.705342e-08\n",
      "numerical: 0.185263 analytic: 0.185263, relative error: 3.658376e-07\n",
      "numerical: -1.939580 analytic: -1.939580, relative error: 1.418381e-08\n",
      "numerical: -0.576952 analytic: -0.576952, relative error: 1.110990e-08\n"
     ]
    }
   ],
   "source": [
    "# Complete the implementation of softmax_loss_naive and implement a (naive)\n",
    "# version of the gradient that uses nested loops.\n",
    "loss, grad = softmax_loss_naive(W, X_dev, y_dev, 0.0)\n",
    "\n",
    "# As we did for the SVM, use numeric gradient checking as a debugging tool.\n",
    "# The numeric gradient should be close to the analytic gradient.\n",
    "from cs231n.gradient_check import grad_check_sparse\n",
    "f = lambda w: softmax_loss_naive(w, X_dev, y_dev, 0.0)[0]\n",
    "grad_numerical = grad_check_sparse(f, W, grad, 10)\n",
    "\n",
    "# similar to SVM case, do another gradient check with regularization\n",
    "loss, grad = softmax_loss_naive(W, X_dev, y_dev, 5e1)\n",
    "f = lambda w: softmax_loss_naive(w, X_dev, y_dev, 5e1)[0]\n",
    "grad_numerical = grad_check_sparse(f, W, grad, 10)"
   ]
  },
  {
   "cell_type": "code",
   "execution_count": 22,
   "metadata": {},
   "outputs": [
    {
     "name": "stdout",
     "output_type": "stream",
     "text": [
      "naive loss: 2.343363e+00 computed in 0.108677s\n",
      "vectorized loss: 2.343363e+00 computed in 0.003740s\n",
      "Loss difference: 0.000000\n",
      "Gradient difference: 0.000000\n"
     ]
    }
   ],
   "source": [
    "# Now that we have a naive implementation of the softmax loss function and its gradient,\n",
    "# implement a vectorized version in softmax_loss_vectorized.\n",
    "# The two versions should compute the same results, but the vectorized version should be\n",
    "# much faster.\n",
    "tic = time.time()\n",
    "loss_naive, grad_naive = softmax_loss_naive(W, X_dev, y_dev, 0.000005)\n",
    "toc = time.time()\n",
    "print('naive loss: %e computed in %fs' % (loss_naive, toc - tic))\n",
    "\n",
    "from cs231n.classifiers.softmax import softmax_loss_vectorized\n",
    "tic = time.time()\n",
    "loss_vectorized, grad_vectorized = softmax_loss_vectorized(W, X_dev, y_dev, 0.000005)\n",
    "toc = time.time()\n",
    "print('vectorized loss: %e computed in %fs' % (loss_vectorized, toc - tic))\n",
    "\n",
    "# As we did for the SVM, we use the Frobenius norm to compare the two versions\n",
    "# of the gradient.\n",
    "grad_difference = np.linalg.norm(grad_naive - grad_vectorized, ord='fro')\n",
    "print('Loss difference: %f' % np.abs(loss_naive - loss_vectorized))\n",
    "print('Gradient difference: %f' % grad_difference)"
   ]
  },
  {
   "cell_type": "code",
   "execution_count": 28,
   "metadata": {
    "tags": [
     "code"
    ]
   },
   "outputs": [
    {
     "name": "stdout",
     "output_type": "stream",
     "text": [
      "iteration 0 / 1500: loss 385.654529\n",
      "iteration 100 / 1500: loss 233.141123\n",
      "iteration 200 / 1500: loss 141.709255\n",
      "iteration 300 / 1500: loss 86.320370\n",
      "iteration 400 / 1500: loss 52.929521\n",
      "iteration 500 / 1500: loss 32.833710\n",
      "iteration 600 / 1500: loss 20.620997\n",
      "iteration 700 / 1500: loss 13.327058\n",
      "iteration 800 / 1500: loss 8.823200\n",
      "iteration 900 / 1500: loss 6.129414\n",
      "iteration 1000 / 1500: loss 4.561895\n",
      "iteration 1100 / 1500: loss 3.572823\n",
      "iteration 1200 / 1500: loss 2.972414\n",
      "iteration 1300 / 1500: loss 2.505304\n",
      "iteration 1400 / 1500: loss 2.376485\n",
      "training accuracy: 0.351918\n",
      "validation accuracy: 0.373000\n",
      "iteration 0 / 1500: loss 782.887409\n",
      "iteration 100 / 1500: loss 287.105110\n",
      "iteration 200 / 1500: loss 106.472202\n",
      "iteration 300 / 1500: loss 40.298640\n",
      "iteration 400 / 1500: loss 16.049669\n",
      "iteration 500 / 1500: loss 7.242149\n",
      "iteration 600 / 1500: loss 3.981692\n",
      "iteration 700 / 1500: loss 2.779580\n",
      "iteration 800 / 1500: loss 2.239164\n",
      "iteration 900 / 1500: loss 2.168737\n",
      "iteration 1000 / 1500: loss 2.132860\n",
      "iteration 1100 / 1500: loss 2.141420\n",
      "iteration 1200 / 1500: loss 2.093969\n",
      "iteration 1300 / 1500: loss 2.101144\n",
      "iteration 1400 / 1500: loss 2.029771\n",
      "training accuracy: 0.335224\n",
      "validation accuracy: 0.348000\n",
      "iteration 0 / 1500: loss 388.082895\n",
      "iteration 100 / 1500: loss 32.676178\n",
      "iteration 200 / 1500: loss 4.495111\n",
      "iteration 300 / 1500: loss 2.206164\n",
      "iteration 400 / 1500: loss 2.045535\n",
      "iteration 500 / 1500: loss 2.037983\n",
      "iteration 600 / 1500: loss 1.951394\n",
      "iteration 700 / 1500: loss 2.042036\n",
      "iteration 800 / 1500: loss 2.044622\n",
      "iteration 900 / 1500: loss 2.097630\n",
      "iteration 1000 / 1500: loss 2.025363\n",
      "iteration 1100 / 1500: loss 2.004805\n",
      "iteration 1200 / 1500: loss 2.126211\n",
      "iteration 1300 / 1500: loss 2.015268\n",
      "iteration 1400 / 1500: loss 2.016785\n",
      "training accuracy: 0.347959\n",
      "validation accuracy: 0.347000\n",
      "iteration 0 / 1500: loss 767.530389\n",
      "iteration 100 / 1500: loss 6.851231\n",
      "iteration 200 / 1500: loss 2.078969\n",
      "iteration 300 / 1500: loss 2.100244\n",
      "iteration 400 / 1500: loss 2.091212\n",
      "iteration 500 / 1500: loss 2.097044\n",
      "iteration 600 / 1500: loss 2.074332\n",
      "iteration 700 / 1500: loss 2.167259\n",
      "iteration 800 / 1500: loss 2.118791\n",
      "iteration 900 / 1500: loss 2.111958\n",
      "iteration 1000 / 1500: loss 2.041923\n",
      "iteration 1100 / 1500: loss 2.078161\n",
      "iteration 1200 / 1500: loss 2.048191\n",
      "iteration 1300 / 1500: loss 2.111481\n",
      "iteration 1400 / 1500: loss 2.051232\n",
      "training accuracy: 0.310143\n",
      "validation accuracy: 0.325000\n",
      "{(1e-07, 25000.0): (0.35191836734693877, 0.373), (5e-07, 50000.0): (0.31014285714285716, 0.325), (5e-07, 25000.0): (0.3479591836734694, 0.347), (1e-07, 50000.0): (0.33522448979591835, 0.348)}\n",
      "0.373\n",
      "lr 1.000000e-07 reg 2.500000e+04 train accuracy: 0.351918 val accuracy: 0.373000\n",
      "lr 1.000000e-07 reg 5.000000e+04 train accuracy: 0.335224 val accuracy: 0.348000\n",
      "lr 5.000000e-07 reg 2.500000e+04 train accuracy: 0.347959 val accuracy: 0.347000\n",
      "lr 5.000000e-07 reg 5.000000e+04 train accuracy: 0.310143 val accuracy: 0.325000\n",
      "best validation accuracy achieved during cross-validation: 0.373000\n"
     ]
    }
   ],
   "source": [
    "# Use the validation set to tune hyperparameters (regularization strength and\n",
    "# learning rate). You should experiment with different ranges for the learning\n",
    "# rates and regularization strengths; if you are careful you should be able to\n",
    "# get a classification accuracy of over 0.35 on the validation set.\n",
    "from cs231n.classifiers import Softmax\n",
    "results = {}\n",
    "best_val = -1\n",
    "best_softmax = None\n",
    "learning_rates = [1e-7, 5e-7]\n",
    "regularization_strengths = [2.5e4, 5e4]\n",
    "\n",
    "################################################################################\n",
    "# TODO:                                                                        #\n",
    "# Use the validation set to set the learning rate and regularization strength. #\n",
    "# This should be identical to the validation that you did for the SVM; save    #\n",
    "# the best trained softmax classifer in best_softmax.                          #\n",
    "################################################################################\n",
    "# *****START OF YOUR CODE (DO NOT DELETE/MODIFY THIS LINE)*****\n",
    "for i in range(len(learning_rates)):\n",
    "    for j in range(len(regularization_strengths)):\n",
    "        lost_hist=0;\n",
    "        softmax = Softmax()\n",
    "        \n",
    "        loss_hist = softmax.train(X_train, y_train, learning_rate=learning_rates[i], reg=regularization_strengths[j],\n",
    "                      num_iters=1500, verbose=True)\n",
    "       \n",
    "        y_train_pred = softmax.predict(X_train)\n",
    "        print('training accuracy: %f' % (np.mean(y_train == y_train_pred), ))\n",
    "        y_val_pred = softmax.predict(X_val)\n",
    "        print('validation accuracy: %f' % (np.mean(y_val == y_val_pred), ))\n",
    "        num_correct = np.sum(y_val_pred == y_val)\n",
    "        num_test = X_val.shape[0]\n",
    "        val_accuracy = float(num_correct) / num_test\n",
    "        num_correct1 = np.sum(y_train_pred == y_train)\n",
    "        num_test1 = X_train.shape[0]\n",
    "        train_accuracy = float(num_correct1) / num_test1\n",
    "        results[(learning_rates[i],regularization_strengths[j])]=train_accuracy,val_accuracy\n",
    "        if(val_accuracy>best_val):\n",
    "            best_val=val_accuracy\n",
    "            best_softmax=softmax\n",
    "          #  best_svm.learning_rates=learning_rates[i]\n",
    "           # best_svm.regularization_strengths=regularization_strengths[j]\n",
    "            \n",
    "        \n",
    "print(results)\n",
    "print(best_val)\n",
    "pass\n",
    "\n",
    "# *****END OF YOUR CODE (DO NOT DELETE/MODIFY THIS LINE)*****\n",
    "    \n",
    "# Print out results.\n",
    "for lr, reg in sorted(results):\n",
    "    train_accuracy, val_accuracy = results[(lr, reg)]\n",
    "    print('lr %e reg %e train accuracy: %f val accuracy: %f' % (\n",
    "                lr, reg, train_accuracy, val_accuracy))\n",
    "    \n",
    "print('best validation accuracy achieved during cross-validation: %f' % best_val)"
   ]
  },
  {
   "cell_type": "code",
   "execution_count": 29,
   "metadata": {},
   "outputs": [
    {
     "name": "stdout",
     "output_type": "stream",
     "text": [
      "softmax on raw pixels final test set accuracy: 0.365000\n"
     ]
    }
   ],
   "source": [
    "# evaluate on test set\n",
    "# Evaluate the best softmax on test set\n",
    "y_test_pred = best_softmax.predict(X_test)\n",
    "test_accuracy = np.mean(y_test == y_test_pred)\n",
    "print('softmax on raw pixels final test set accuracy: %f' % (test_accuracy, ))"
   ]
  },
  {
   "cell_type": "markdown",
   "metadata": {
    "tags": [
     "pdf-inline"
    ]
   },
   "source": [
    "**Inline Question 2** - *True or False*\n",
    "\n",
    "Suppose the overall training loss is defined as the sum of the per-datapoint loss over all training examples. It is possible to add a new datapoint to a training set that would leave the SVM loss unchanged, but this is not the case with the Softmax classifier loss.\n",
    "\n",
    "$\\color{blue}{\\textit Your Answer:}$\n",
    "\n",
    "\n",
    "$\\color{blue}{\\textit Your Explanation:}$\n",
    "\n"
   ]
  },
  {
   "cell_type": "code",
   "execution_count": 30,
   "metadata": {},
   "outputs": [
    {
     "data": {
      "image/png": "[encoded data removed]",
      "text/plain": [
       "<matplotlib.figure.Figure at 0x7fc92ac0d150>"
      ]
     },
     "metadata": {
      "needs_background": "light"
     },
     "output_type": "display_data"
    }
   ],
   "source": [
    "# Visualize the learned weights for each class\n",
    "w = best_softmax.W[:-1,:] # strip out the bias\n",
    "w = w.reshape(32, 32, 3, 10)\n",
    "\n",
    "w_min, w_max = np.min(w), np.max(w)\n",
    "\n",
    "classes = ['plane', 'car', 'bird', 'cat', 'deer', 'dog', 'frog', 'horse', 'ship', 'truck']\n",
    "for i in range(10):\n",
    "    plt.subplot(2, 5, i + 1)\n",
    "    \n",
    "    # Rescale the weights to be between 0 and 255\n",
    "    wimg = 255.0 * (w[:, :, :, i].squeeze() - w_min) / (w_max - w_min)\n",
    "    plt.imshow(wimg.astype('uint8'))\n",
    "    plt.axis('off')\n",
    "    plt.title(classes[i])"
   ]
  },
  {
   "cell_type": "code",
   "execution_count": null,
   "metadata": {},
   "outputs": [],
   "source": []
  }
 ],
 "metadata": {
  "kernelspec": {
   "display_name": "Python 3",
   "language": "python",
   "name": "python3"
  },
  "language_info": {
   "codemirror_mode": {
    "name": "ipython",
    "version": 2
   },
   "file_extension": ".py",
   "mimetype": "text/x-python",
   "name": "python",
   "nbconvert_exporter": "python",
   "pygments_lexer": "ipython2",
   "version": "2.7.15"
  }
 },
 "nbformat": 4,
 "nbformat_minor": 1
}
